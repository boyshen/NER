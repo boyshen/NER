{
 "cells": [
  {
   "cell_type": "markdown",
   "metadata": {},
   "source": [
    "# 中文细粒度命名实体识别\n",
    "\n",
    "中文细粒度命名实体识别，简称 NER。主要用于识别文本、句子中的人名、地名、机构名。除此之外，还包括一些实体、例如日前、数字、货币等等。\n",
    "\n",
    "参考：\n",
    "\n",
    "  ● [中文命名实体识别总结](https://www.jianshu.com/p/34a5c6b9bb3e)\n",
    "  \n",
    "  ● [中文细粒度命名实体识别](https://zhuanlan.zhihu.com/p/103034432?utm_source=wechat_session)\n",
    "  \n",
    "  ● [NLP-中文命名实体识别](https://blog.csdn.net/MaggicalQ/article/details/88980534)\n",
    "  \n",
    "  ● [命名实体总结](https://www.cnblogs.com/nxf-rabbit75/archive/2019/04/18/10727769.html)\n"
   ]
  },
  {
   "cell_type": "markdown",
   "metadata": {},
   "source": [
    "## 数据集\n",
    "\n",
    "\n",
    "项目数据集来自 [中文细粒度命名实体识别数据集](https://www.cluebenchmarks.com/introduce.html)。该数据集主要包括 train.json、test.json、dev.json。 \n",
    "\n",
    "  ● train.json 训练数据集。包含text、label。可以进行训练\n",
    "  \n",
    "  ● test.json 测试数据集。该数据集没有提供 label、无法进行评分。详细参考[官网](https://www.cluebenchmarks.com/introduce.html)\n",
    "  \n",
    "  ● dev.json 验证数据集。包含 text 和 label。可以进行测试、验证。\n",
    "  \n",
    " 项目中采用 train.json 做训练和验证数据集。dev.json 做测试数据集。数据集中包括多个实体，每个实体的语料数量各不相同。"
   ]
  },
  {
   "cell_type": "markdown",
   "metadata": {},
   "source": [
    "### 预处理\n",
    "\n",
    "对数据进行处理，查看下载的数据集格式。对数据集进行加载预处理。数据集采用json格式, 每一行为一个json文本。text为文本数据，label为文本标签，主要包括实体类型、实体字符、以及在文本中的索引"
   ]
  },
  {
   "cell_type": "code",
   "execution_count": 1,
   "metadata": {},
   "outputs": [
    {
     "name": "stdout",
     "output_type": "stream",
     "text": [
      "{\"text\": \"浙商银行企业信贷部叶老桂博士则从另一个角度对五道门槛进行了解读。叶老桂认为，对目前国内商业银行而言，\", \"label\": {\"name\": {\"叶老桂\": [[9, 11]]}, \"company\": {\"浙商银行\": [[0, 3]]}}}\r\n",
      "{\"text\": \"生生不息CSOL生化狂潮让你填弹狂扫\", \"label\": {\"game\": {\"CSOL\": [[4, 7]]}}}\r\n",
      "{\"text\": \"那不勒斯vs锡耶纳以及桑普vs热那亚之上呢？\", \"label\": {\"organization\": {\"那不勒斯\": [[0, 3]], \"锡耶纳\": [[6, 8]], \"桑普\": [[11, 12]], \"热那亚\": [[15, 17]]}}}\r\n",
      "{\"text\": \"加勒比海盗3：世界尽头》的去年同期成绩死死甩在身后，后者则即将赶超《变形金刚》，\", \"label\": {\"movie\": {\"加勒比海盗3：世界尽头》\": [[0, 11]], \"《变形金刚》\": [[33, 38]]}}}\r\n",
      "{\"text\": \"布鲁京斯研究所桑顿中国中心研究部主任李成说，东亚的和平与安全，是美国的“核心利益”之一。\", \"label\": {\"address\": {\"美国\": [[32, 33]]}, \"organization\": {\"布鲁京斯研究所桑顿中国中心\": [[0, 12]]}, \"name\": {\"李成\": [[18, 19]]}, \"position\": {\"研究部主任\": [[13, 17]]}}}\r\n",
      "{\"text\": \"目前主赞助商暂时空缺，他们的球衣上印的是“unicef”（联合国儿童基金会），是公益性质的广告；\", \"label\": {\"organization\": {\"unicef\": [[21, 26]], \"联合国儿童基金会\": [[29, 36]]}}}\r\n",
      "{\"text\": \"此数据换算成亚洲盘罗马客场可让平半低水。\", \"label\": {\"organization\": {\"罗马\": [[9, 10]]}}}\r\n",
      "{\"text\": \"你们是最棒的!#英雄联盟d学sanchez创作的原声王\", \"label\": {\"game\": {\"英雄联盟\": [[8, 11]]}}}\r\n",
      "{\"text\": \"除了吴湖帆时现精彩，吴待秋、吴子深、冯超然已然归入二三流了，\", \"label\": {\"name\": {\"吴湖帆\": [[2, 4]], \"吴待秋\": [[10, 12]], \"吴子深\": [[14, 16]], \"冯超然\": [[18, 20]]}}}\r\n",
      "{\"text\": \"在豪门被多线作战拖累时，正是他们悄悄追赶上来的大好时机。重新找回全队的凝聚力是拉科赢球的资本。\", \"label\": {\"organization\": {\"拉科\": [[39, 40]]}}}\r\n"
     ]
    }
   ],
   "source": [
    "!head -10 ../data/cluener_public/train.json"
   ]
  },
  {
   "cell_type": "code",
   "execution_count": 2,
   "metadata": {},
   "outputs": [],
   "source": [
    "train_data_file = \"../data/cluener_public/train.json\"\n",
    "test_data_file = \"../data/cluener_public/dev.json\""
   ]
  },
  {
   "cell_type": "markdown",
   "metadata": {},
   "source": [
    "### 语料标注方法\n",
    "\n",
    "语料标注方法是将语料中每一个字符使用特殊的字符进行标记。用于区分该字符的涵义。比较 “罗马” 这一实体名，则用 B_organization 和 E_organization 表示。\n",
    "\n",
    "语料采用 BIOES 标注方法：\n",
    "\n",
    "  ● BIOES是在IOB方法上，扩展出的一个更复杂，但更完备的标注方法。其中 B表示这个词处于一个实体的开始(Begin), I 表示实体内部(inside), O 表示实体外部(outside)的其他词, E 表示这个词处于一个实体的结束为止， S 表示这个词是自己就可以组成一个实体(Single)\n",
    "\n",
    "  ● BIOES 是目前最通用的命名实体标注方法。"
   ]
  },
  {
   "cell_type": "code",
   "execution_count": 3,
   "metadata": {},
   "outputs": [
    {
     "name": "stderr",
     "output_type": "stream",
     "text": [
      "10748it [00:00, 32153.35it/s]\n",
      "1343it [00:00, 28559.88it/s]\n"
     ]
    }
   ],
   "source": [
    "import sys\n",
    "sys.path.append(\"../\")\n",
    "\n",
    "import json\n",
    "from module.core.data_tools import DataTools\n",
    "\n",
    "# 定义语料标识符\n",
    "identifier_b, identifier_i, identifier_o, identifier_e, identifier_s = \"B\", \"I\", \"O\", \"E\", \"S\"\n",
    "    \n",
    "# 定义语料标识符的格式\n",
    "identifier_format = lambda i, s: \"{}_{}\".format(i, s)\n",
    "\n",
    "def handle(line):\n",
    "    json_data = json.loads(line)\n",
    "    \n",
    "    # 获取文本数据和标签数据\n",
    "    text = json_data['text']\n",
    "    label = json_data['label']\n",
    "\n",
    "    identifier = [identifier_o] * len(text)\n",
    "\n",
    "    for ner_name, ner_value in label.items():\n",
    "        for ner_str, ner_index in ner_value.items():\n",
    "            for n_index in ner_index:\n",
    "                if text[n_index[0]:n_index[1] + 1] != ner_str:\n",
    "                    print(\"Data Error: no specific character found . text: {}, label: {}\".format(text, label))\n",
    "                    exit()\n",
    "                # 单个字符的实体。在中文语料中可能不存在。\n",
    "                if len(ner_str) == 1:\n",
    "                    identifier[n_index[0]] = identifier_format(identifier_s,ner_name)\n",
    "                    \n",
    "                # 两个字符的实体\n",
    "                elif len(ner_str) == 2:\n",
    "                    identifier[n_index[0]] = identifier_format(identifier_b, ner_name)\n",
    "                    identifier[n_index[1]] = identifier_format(identifier_e, ner_name)\n",
    "                \n",
    "                # 两个字符以上的实体\n",
    "                elif len(ner_str) > 2:\n",
    "                    identifier[n_index[0]] = identifier_format(identifier_b, ner_name)\n",
    "                    for i in range(1, len(ner_str) - 2 + 1):\n",
    "                        identifier[n_index[0] + i] = identifier_format(identifier_i, ner_name)\n",
    "                    identifier[n_index[1]] = identifier_format(identifier_e, ner_name)\n",
    "\n",
    "    return [text, identifier, label]\n",
    "\n",
    "# 使用DataTools读取数据，同时传入handle函数，对数据进行处理。\n",
    "train_dataset = DataTools.Preprocess.read_file_data(train_data_file, handle_func=handle)\n",
    "test_dataset = DataTools.Preprocess.read_file_data(test_data_file, handle_func=handle)"
   ]
  },
  {
   "cell_type": "code",
   "execution_count": 4,
   "metadata": {},
   "outputs": [
    {
     "name": "stdout",
     "output_type": "stream",
     "text": [
      "Train Dataset : \n",
      "text:  浙商银行企业信贷部叶老桂博士则从另一个角度对五道门槛进行了解读。叶老桂认为，对目前国内商业银行而言，\n",
      "identifier:  ['B_company', 'I_company', 'I_company', 'E_company', 'O', 'O', 'O', 'O', 'O', 'B_name', 'I_name', 'E_name', 'O', 'O', 'O', 'O', 'O', 'O', 'O', 'O', 'O', 'O', 'O', 'O', 'O', 'O', 'O', 'O', 'O', 'O', 'O', 'O', 'O', 'O', 'O', 'O', 'O', 'O', 'O', 'O', 'O', 'O', 'O', 'O', 'O', 'O', 'O', 'O', 'O', 'O']\n",
      "label:  {'name': {'叶老桂': [[9, 11]]}, 'company': {'浙商银行': [[0, 3]]}}\n",
      "\n",
      "text:  生生不息CSOL生化狂潮让你填弹狂扫\n",
      "identifier:  ['O', 'O', 'O', 'O', 'B_game', 'I_game', 'I_game', 'E_game', 'O', 'O', 'O', 'O', 'O', 'O', 'O', 'O', 'O', 'O']\n",
      "label:  {'game': {'CSOL': [[4, 7]]}}\n",
      "\n",
      "text:  那不勒斯vs锡耶纳以及桑普vs热那亚之上呢？\n",
      "identifier:  ['B_organization', 'I_organization', 'I_organization', 'E_organization', 'O', 'O', 'B_organization', 'I_organization', 'E_organization', 'O', 'O', 'B_organization', 'E_organization', 'O', 'O', 'B_organization', 'I_organization', 'E_organization', 'O', 'O', 'O', 'O']\n",
      "label:  {'organization': {'那不勒斯': [[0, 3]], '锡耶纳': [[6, 8]], '桑普': [[11, 12]], '热那亚': [[15, 17]]}}\n",
      "\n",
      "text:  加勒比海盗3：世界尽头》的去年同期成绩死死甩在身后，后者则即将赶超《变形金刚》，\n",
      "identifier:  ['B_movie', 'I_movie', 'I_movie', 'I_movie', 'I_movie', 'I_movie', 'I_movie', 'I_movie', 'I_movie', 'I_movie', 'I_movie', 'E_movie', 'O', 'O', 'O', 'O', 'O', 'O', 'O', 'O', 'O', 'O', 'O', 'O', 'O', 'O', 'O', 'O', 'O', 'O', 'O', 'O', 'O', 'B_movie', 'I_movie', 'I_movie', 'I_movie', 'I_movie', 'E_movie', 'O']\n",
      "label:  {'movie': {'加勒比海盗3：世界尽头》': [[0, 11]], '《变形金刚》': [[33, 38]]}}\n",
      "\n",
      "text:  布鲁京斯研究所桑顿中国中心研究部主任李成说，东亚的和平与安全，是美国的“核心利益”之一。\n",
      "identifier:  ['B_organization', 'I_organization', 'I_organization', 'I_organization', 'I_organization', 'I_organization', 'I_organization', 'I_organization', 'I_organization', 'I_organization', 'I_organization', 'I_organization', 'E_organization', 'B_position', 'I_position', 'I_position', 'I_position', 'E_position', 'B_name', 'E_name', 'O', 'O', 'O', 'O', 'O', 'O', 'O', 'O', 'O', 'O', 'O', 'O', 'B_address', 'E_address', 'O', 'O', 'O', 'O', 'O', 'O', 'O', 'O', 'O', 'O']\n",
      "label:  {'address': {'美国': [[32, 33]]}, 'organization': {'布鲁京斯研究所桑顿中国中心': [[0, 12]]}, 'name': {'李成': [[18, 19]]}, 'position': {'研究部主任': [[13, 17]]}}\n",
      "\n",
      "text:  目前主赞助商暂时空缺，他们的球衣上印的是“unicef”（联合国儿童基金会），是公益性质的广告；\n",
      "identifier:  ['O', 'O', 'O', 'O', 'O', 'O', 'O', 'O', 'O', 'O', 'O', 'O', 'O', 'O', 'O', 'O', 'O', 'O', 'O', 'O', 'O', 'B_organization', 'I_organization', 'I_organization', 'I_organization', 'I_organization', 'E_organization', 'O', 'O', 'B_organization', 'I_organization', 'I_organization', 'I_organization', 'I_organization', 'I_organization', 'I_organization', 'E_organization', 'O', 'O', 'O', 'O', 'O', 'O', 'O', 'O', 'O', 'O', 'O']\n",
      "label:  {'organization': {'unicef': [[21, 26]], '联合国儿童基金会': [[29, 36]]}}\n",
      "\n",
      "text:  此数据换算成亚洲盘罗马客场可让平半低水。\n",
      "identifier:  ['O', 'O', 'O', 'O', 'O', 'O', 'O', 'O', 'O', 'B_organization', 'E_organization', 'O', 'O', 'O', 'O', 'O', 'O', 'O', 'O', 'O']\n",
      "label:  {'organization': {'罗马': [[9, 10]]}}\n",
      "\n",
      "text:  你们是最棒的!#英雄联盟d学sanchez创作的原声王\n",
      "identifier:  ['O', 'O', 'O', 'O', 'O', 'O', 'O', 'O', 'B_game', 'I_game', 'I_game', 'E_game', 'O', 'O', 'O', 'O', 'O', 'O', 'O', 'O', 'O', 'O', 'O', 'O', 'O', 'O', 'O']\n",
      "label:  {'game': {'英雄联盟': [[8, 11]]}}\n",
      "\n",
      "text:  除了吴湖帆时现精彩，吴待秋、吴子深、冯超然已然归入二三流了，\n",
      "identifier:  ['O', 'O', 'B_name', 'I_name', 'E_name', 'O', 'O', 'O', 'O', 'O', 'B_name', 'I_name', 'E_name', 'O', 'B_name', 'I_name', 'E_name', 'O', 'B_name', 'I_name', 'E_name', 'O', 'O', 'O', 'O', 'O', 'O', 'O', 'O', 'O']\n",
      "label:  {'name': {'吴湖帆': [[2, 4]], '吴待秋': [[10, 12]], '吴子深': [[14, 16]], '冯超然': [[18, 20]]}}\n",
      "\n",
      "text:  在豪门被多线作战拖累时，正是他们悄悄追赶上来的大好时机。重新找回全队的凝聚力是拉科赢球的资本。\n",
      "identifier:  ['O', 'O', 'O', 'O', 'O', 'O', 'O', 'O', 'O', 'O', 'O', 'O', 'O', 'O', 'O', 'O', 'O', 'O', 'O', 'O', 'O', 'O', 'O', 'O', 'O', 'O', 'O', 'O', 'O', 'O', 'O', 'O', 'O', 'O', 'O', 'O', 'O', 'O', 'O', 'B_organization', 'E_organization', 'O', 'O', 'O', 'O', 'O', 'O']\n",
      "label:  {'organization': {'拉科': [[39, 40]]}}\n",
      "\n",
      "text:  主要属于结构性理财产品。上周交通银行发行了“天添利”系列理财产品，投资者在封闭期申购该系列理财产品，\n",
      "identifier:  ['O', 'O', 'O', 'O', 'O', 'O', 'O', 'O', 'O', 'O', 'O', 'O', 'O', 'O', 'B_company', 'I_company', 'I_company', 'E_company', 'O', 'O', 'O', 'O', 'O', 'O', 'O', 'O', 'O', 'O', 'O', 'O', 'O', 'O', 'O', 'O', 'O', 'O', 'O', 'O', 'O', 'O', 'O', 'O', 'O', 'O', 'O', 'O', 'O', 'O', 'O', 'O']\n",
      "label:  {'company': {'交通银行': [[14, 17]]}}\n",
      "\n",
      "text:  万通地产设计总监刘克峰；\n",
      "identifier:  ['B_company', 'I_company', 'I_company', 'E_company', 'B_position', 'I_position', 'I_position', 'E_position', 'B_name', 'I_name', 'E_name', 'O']\n",
      "label:  {'name': {'刘克峰': [[8, 10]]}, 'company': {'万通地产': [[0, 3]]}, 'position': {'设计总监': [[4, 7]]}}\n",
      "\n",
      "text:  彭久洋：我的魂飞了贝鲁斯科尼老古董收藏家（图）\n",
      "identifier:  ['B_name', 'I_name', 'E_name', 'O', 'O', 'O', 'O', 'O', 'O', 'B_name', 'I_name', 'I_name', 'I_name', 'E_name', 'O', 'O', 'O', 'B_position', 'I_position', 'E_position', 'O', 'O', 'O']\n",
      "label:  {'name': {'彭久洋': [[0, 2]], '贝鲁斯科尼': [[9, 13]]}, 'position': {'收藏家': [[17, 19]]}}\n",
      "\n",
      "text:  会议批准了中国与欧盟海军、多国海上力量和北约等就在“国际推荐通行走廊”\n",
      "identifier:  ['O', 'O', 'O', 'O', 'O', 'B_government', 'I_government', 'I_government', 'I_government', 'I_government', 'I_government', 'E_government', 'O', 'O', 'O', 'O', 'O', 'O', 'O', 'O', 'B_government', 'E_government', 'O', 'O', 'O', 'O', 'O', 'O', 'O', 'O', 'O', 'O', 'O', 'O', 'O']\n",
      "label:  {'government': {'中国与欧盟海军': [[5, 11]], '北约': [[20, 21]]}}\n",
      "\n",
      "text:  他们需要1分确保小组出线。出线形势要求赫塔必须全力争胜。interwetten相同赔率下，\n",
      "identifier:  ['O', 'O', 'O', 'O', 'O', 'O', 'O', 'O', 'O', 'O', 'O', 'O', 'O', 'O', 'O', 'O', 'O', 'O', 'O', 'B_organization', 'E_organization', 'O', 'O', 'O', 'O', 'O', 'O', 'O', 'B_organization', 'I_organization', 'I_organization', 'I_organization', 'I_organization', 'I_organization', 'I_organization', 'I_organization', 'I_organization', 'I_organization', 'E_organization', 'O', 'O', 'O', 'O', 'O', 'O']\n",
      "label:  {'organization': {'赫塔': [[19, 20]], 'interwetten': [[28, 38]]}}\n",
      "\n",
      "text:  20雷池，本场无冷迹象。\n",
      "identifier:  ['O', 'O', 'B_address', 'E_address', 'O', 'O', 'O', 'O', 'O', 'O', 'O', 'O']\n",
      "label:  {'address': {'雷池': [[2, 3]]}}\n",
      "\n",
      "text:  不久后，“星展中国”南宁分行也将择机开业。除新加坡星展银行外，多家外资银行最近纷纷扩大在华投资，\n",
      "identifier:  ['O', 'O', 'O', 'O', 'B_company', 'I_company', 'I_company', 'I_company', 'I_company', 'I_company', 'I_company', 'I_company', 'I_company', 'E_company', 'O', 'O', 'O', 'O', 'O', 'O', 'O', 'O', 'B_company', 'I_company', 'I_company', 'I_company', 'I_company', 'I_company', 'E_company', 'O', 'O', 'O', 'O', 'O', 'O', 'O', 'O', 'O', 'O', 'O', 'O', 'O', 'O', 'O', 'O', 'O', 'O', 'O']\n",
      "label:  {'company': {'“星展中国”南宁分行': [[4, 13]], '新加坡星展银行': [[22, 28]]}}\n",
      "\n",
      "text:  她写道：抗战胜利时我从重庆坐民联轮到南京，去中山陵瞻仰，也到秦淮河去过。然后就去北京了。\n",
      "identifier:  ['O', 'O', 'O', 'O', 'O', 'O', 'O', 'O', 'O', 'O', 'O', 'B_address', 'E_address', 'O', 'O', 'O', 'O', 'O', 'B_address', 'E_address', 'O', 'O', 'B_scene', 'I_scene', 'E_scene', 'O', 'O', 'O', 'O', 'O', 'B_scene', 'I_scene', 'E_scene', 'O', 'O', 'O', 'O', 'O', 'O', 'O', 'B_address', 'E_address', 'O', 'O']\n",
      "label:  {'address': {'重庆': [[11, 12]], '南京': [[18, 19]], '北京': [[40, 41]]}, 'scene': {'中山陵': [[22, 24]], '秦淮河': [[30, 32]]}}\n",
      "\n",
      "text:  除了资金支持之外，工行还为创业大学生提供包括存款、资金结算、电子银行、银行卡等一站式金融服务，\n",
      "identifier:  ['O', 'O', 'O', 'O', 'O', 'O', 'O', 'O', 'O', 'B_company', 'E_company', 'O', 'O', 'O', 'O', 'B_position', 'I_position', 'E_position', 'O', 'O', 'O', 'O', 'O', 'O', 'O', 'O', 'O', 'O', 'O', 'O', 'O', 'O', 'O', 'O', 'O', 'O', 'O', 'O', 'O', 'O', 'O', 'O', 'O', 'O', 'O', 'O', 'O']\n",
      "label:  {'company': {'工行': [[9, 10]]}, 'position': {'大学生': [[15, 17]]}}\n",
      "\n",
      "text:  部分作品被加州地方艺术馆收藏。\n",
      "identifier:  ['O', 'O', 'O', 'O', 'O', 'B_scene', 'I_scene', 'I_scene', 'I_scene', 'I_scene', 'I_scene', 'E_scene', 'O', 'O', 'O']\n",
      "label:  {'scene': {'加州地方艺术馆': [[5, 11]]}}\n",
      "\n",
      "\n",
      "Test Dataset : \n",
      "text:  彭小军认为，国内银行现在走的是台湾的发卡模式，先通过跑马圈地再在圈的地里面选择客户，\n",
      "identifier:  ['B_name', 'I_name', 'E_name', 'O', 'O', 'O', 'O', 'O', 'O', 'O', 'O', 'O', 'O', 'O', 'O', 'B_address', 'E_address', 'O', 'O', 'O', 'O', 'O', 'O', 'O', 'O', 'O', 'O', 'O', 'O', 'O', 'O', 'O', 'O', 'O', 'O', 'O', 'O', 'O', 'O', 'O', 'O', 'O']\n",
      "label:  {'address': {'台湾': [[15, 16]]}, 'name': {'彭小军': [[0, 2]]}}\n",
      "\n",
      "text:  温格的球队终于又踢了一场经典的比赛，2比1战胜曼联之后枪手仍然留在了夺冠集团之内，\n",
      "identifier:  ['B_name', 'E_name', 'O', 'O', 'O', 'O', 'O', 'O', 'O', 'O', 'O', 'O', 'O', 'O', 'O', 'O', 'O', 'O', 'O', 'O', 'O', 'O', 'O', 'B_organization', 'E_organization', 'O', 'O', 'O', 'O', 'O', 'O', 'O', 'O', 'O', 'O', 'O', 'O', 'O', 'O', 'O', 'O']\n",
      "label:  {'organization': {'曼联': [[23, 24]]}, 'name': {'温格': [[0, 1]]}}\n",
      "\n",
      "text:  突袭黑暗雅典娜》中Riddick发现之前抓住他的赏金猎人Johns，\n",
      "identifier:  ['B_game', 'I_game', 'I_game', 'I_game', 'I_game', 'I_game', 'I_game', 'E_game', 'O', 'B_name', 'I_name', 'I_name', 'I_name', 'I_name', 'I_name', 'E_name', 'O', 'O', 'O', 'O', 'O', 'O', 'O', 'O', 'O', 'O', 'O', 'O', 'B_name', 'I_name', 'I_name', 'I_name', 'E_name', 'O']\n",
      "label:  {'game': {'突袭黑暗雅典娜》': [[0, 7]]}, 'name': {'Riddick': [[9, 15]], 'Johns': [[28, 32]]}}\n",
      "\n",
      "text:  郑阿姨就赶到文汇路排队拿钱，希望能将缴纳的一万余元学费拿回来，顺便找校方或者教委要个说法。\n",
      "identifier:  ['O', 'O', 'O', 'O', 'O', 'O', 'B_address', 'I_address', 'E_address', 'O', 'O', 'O', 'O', 'O', 'O', 'O', 'O', 'O', 'O', 'O', 'O', 'O', 'O', 'O', 'O', 'O', 'O', 'O', 'O', 'O', 'O', 'O', 'O', 'O', 'O', 'O', 'O', 'O', 'O', 'O', 'O', 'O', 'O', 'O', 'O']\n",
      "label:  {'address': {'文汇路': [[6, 8]]}}\n",
      "\n",
      "text:  我想站在雪山脚下你会被那巍峨的雪山所震撼，但你一定要在自己身体条件允许的情况下坚持走到牛奶海、\n",
      "identifier:  ['O', 'O', 'O', 'O', 'B_scene', 'E_scene', 'O', 'O', 'O', 'O', 'O', 'O', 'O', 'O', 'O', 'O', 'O', 'O', 'O', 'O', 'O', 'O', 'O', 'O', 'O', 'O', 'O', 'O', 'O', 'O', 'O', 'O', 'O', 'O', 'O', 'O', 'O', 'O', 'O', 'O', 'O', 'O', 'O', 'B_scene', 'I_scene', 'E_scene', 'O']\n",
      "label:  {'scene': {'牛奶海': [[43, 45]], '雪山': [[4, 5]]}}\n",
      "\n",
      "text:  吴三桂演义》小说的想像，说是为牛金星所毒杀。……在小说中加插一些历史背景，\n",
      "identifier:  ['B_book', 'I_book', 'I_book', 'I_book', 'I_book', 'E_book', 'O', 'O', 'O', 'O', 'O', 'O', 'O', 'O', 'O', 'B_name', 'I_name', 'E_name', 'O', 'O', 'O', 'O', 'O', 'O', 'O', 'O', 'O', 'O', 'O', 'O', 'O', 'O', 'O', 'O', 'O', 'O', 'O']\n",
      "label:  {'book': {'吴三桂演义》': [[0, 5]]}, 'name': {'牛金星': [[15, 17]]}}\n",
      "\n",
      "text:  看来各支一二流的国家队也开始走出欧洲杯后低迷，从本期对阵情况看，似乎冷门度也不太高，你认为呢？\n",
      "identifier:  ['O', 'O', 'O', 'O', 'O', 'O', 'O', 'O', 'O', 'O', 'O', 'O', 'O', 'O', 'O', 'O', 'B_organization', 'I_organization', 'E_organization', 'O', 'O', 'O', 'O', 'O', 'O', 'O', 'O', 'O', 'O', 'O', 'O', 'O', 'O', 'O', 'O', 'O', 'O', 'O', 'O', 'O', 'O', 'O', 'O', 'O', 'O', 'O', 'O']\n",
      "label:  {'organization': {'欧洲杯': [[16, 18]]}}\n",
      "\n",
      "text:  就天涯网推出彩票服务频道是否是业内人士所谓的打政策“擦边球”，记者近日对此事求证彩票监管部门。\n",
      "identifier:  ['O', 'B_company', 'I_company', 'E_company', 'O', 'O', 'O', 'O', 'O', 'O', 'O', 'O', 'O', 'O', 'O', 'O', 'O', 'O', 'O', 'O', 'O', 'O', 'O', 'O', 'O', 'O', 'O', 'O', 'O', 'O', 'O', 'B_position', 'E_position', 'O', 'O', 'O', 'O', 'O', 'O', 'O', 'B_organization', 'I_organization', 'I_organization', 'I_organization', 'I_organization', 'E_organization', 'O']\n",
      "label:  {'organization': {'彩票监管部门': [[40, 45]]}, 'company': {'天涯网': [[1, 3]]}, 'position': {'记者': [[31, 32]]}}\n",
      "\n",
      "text:  市场仍存在对网络销售形式的需求，网络购彩前景如何？为此此我们采访业内专家程阳先生。\n",
      "identifier:  ['O', 'O', 'O', 'O', 'O', 'O', 'O', 'O', 'O', 'O', 'O', 'O', 'O', 'O', 'O', 'O', 'O', 'O', 'O', 'O', 'O', 'O', 'O', 'O', 'O', 'O', 'O', 'O', 'O', 'O', 'O', 'O', 'O', 'O', 'B_position', 'E_position', 'B_name', 'E_name', 'O', 'O', 'O']\n",
      "label:  {'name': {'程阳': [[36, 37]]}, 'position': {'专家': [[34, 35]]}}\n",
      "\n",
      "text:  组委会对中国区预选赛进行了抽签分组，并且对本次抽签进行了全程直播。\n",
      "identifier:  ['B_government', 'I_government', 'E_government', 'O', 'O', 'O', 'O', 'O', 'O', 'O', 'O', 'O', 'O', 'O', 'O', 'O', 'O', 'O', 'O', 'O', 'O', 'O', 'O', 'O', 'O', 'O', 'O', 'O', 'O', 'O', 'O', 'O', 'O']\n",
      "label:  {'government': {'组委会': [[0, 2]]}}\n",
      "\n",
      "text:  根据北京市消防局的说法，此次火灾主要原因是责任单位违规燃放礼花弹，燃放期间民警多次劝阻未果。\n",
      "identifier:  ['O', 'O', 'B_government', 'I_government', 'I_government', 'I_government', 'I_government', 'E_government', 'O', 'O', 'O', 'O', 'O', 'O', 'O', 'O', 'O', 'O', 'O', 'O', 'O', 'O', 'O', 'O', 'O', 'O', 'O', 'O', 'O', 'O', 'O', 'O', 'O', 'O', 'O', 'O', 'O', 'B_position', 'E_position', 'O', 'O', 'O', 'O', 'O', 'O', 'O']\n",
      "label:  {'government': {'北京市消防局': [[2, 7]]}, 'position': {'民警': [[37, 38]]}}\n",
      "\n",
      "text:  本报讯（记者王吉瑛）双色球即将出台新规，一等奖最高奖金可达到1000万元。昨天，中彩中心透露，\n",
      "identifier:  ['O', 'O', 'O', 'O', 'B_position', 'E_position', 'B_name', 'I_name', 'E_name', 'O', 'O', 'O', 'O', 'O', 'O', 'O', 'O', 'O', 'O', 'O', 'O', 'O', 'O', 'O', 'O', 'O', 'O', 'O', 'O', 'O', 'O', 'O', 'O', 'O', 'O', 'O', 'O', 'O', 'O', 'O', 'B_organization', 'I_organization', 'I_organization', 'E_organization', 'O', 'O', 'O']\n",
      "label:  {'organization': {'中彩中心': [[40, 43]]}, 'name': {'王吉瑛': [[6, 8]]}, 'position': {'记者': [[4, 5]]}}\n",
      "\n",
      "text:  结果上周六他们主场0：3惨败给了中游球队瓦拉多利德，近7个多月以来西甲首次输球。\n",
      "identifier:  ['O', 'O', 'O', 'O', 'O', 'O', 'O', 'O', 'O', 'O', 'O', 'O', 'O', 'O', 'O', 'O', 'O', 'O', 'O', 'O', 'B_organization', 'I_organization', 'I_organization', 'I_organization', 'E_organization', 'O', 'O', 'O', 'O', 'O', 'O', 'O', 'O', 'B_organization', 'E_organization', 'O', 'O', 'O', 'O', 'O']\n",
      "label:  {'organization': {'瓦拉多利德': [[20, 24]], '西甲': [[33, 34]]}}\n",
      "\n",
      "text:  价格高昂的大钻和翡翠消费为何如此火？通灵珠宝总裁沈东军认为，这与原料稀缺有直接关系。“\n",
      "identifier:  ['O', 'O', 'O', 'O', 'O', 'O', 'O', 'O', 'O', 'O', 'O', 'O', 'O', 'O', 'O', 'O', 'O', 'O', 'B_company', 'I_company', 'I_company', 'E_company', 'B_position', 'E_position', 'B_name', 'I_name', 'E_name', 'O', 'O', 'O', 'O', 'O', 'O', 'O', 'O', 'O', 'O', 'O', 'O', 'O', 'O', 'O', 'O']\n",
      "label:  {'name': {'沈东军': [[24, 26]]}, 'company': {'通灵珠宝': [[18, 21]]}, 'position': {'总裁': [[22, 23]]}}\n",
      "\n",
      "text:  是目前表现最好的锋线组合之一，而沃尔科特往往能够让对手的整个左边肋疲于防守，以目前枪手的能力和状态，\n",
      "identifier:  ['O', 'O', 'O', 'O', 'O', 'O', 'O', 'O', 'O', 'O', 'O', 'O', 'O', 'O', 'O', 'O', 'B_name', 'I_name', 'I_name', 'E_name', 'O', 'O', 'O', 'O', 'O', 'O', 'O', 'O', 'O', 'O', 'O', 'O', 'O', 'O', 'O', 'O', 'O', 'O', 'O', 'O', 'O', 'O', 'O', 'O', 'O', 'O', 'O', 'O', 'O', 'O']\n",
      "label:  {'name': {'沃尔科特': [[16, 19]]}}\n",
      "\n",
      "text:  爱情公寓》预售票房破亿01:29爱情公寓口碑大跌，恶评如潮…01:07电影版爱情公寓糟起诉?还…\n",
      "identifier:  ['B_movie', 'I_movie', 'I_movie', 'I_movie', 'E_movie', 'O', 'O', 'O', 'O', 'O', 'O', 'O', 'O', 'O', 'O', 'O', 'B_movie', 'I_movie', 'I_movie', 'E_movie', 'O', 'O', 'O', 'O', 'O', 'O', 'O', 'O', 'O', 'O', 'O', 'O', 'O', 'O', 'O', 'O', 'O', 'O', 'B_movie', 'I_movie', 'I_movie', 'E_movie', 'O', 'O', 'O', 'O', 'O', 'O']\n",
      "label:  {'movie': {'爱情公寓》': [[0, 4]], '爱情公寓': [[16, 19], [38, 41]]}}\n",
      "\n",
      "text:  如今着整个潮白河区域环境的巨大变化和环首都经济圈的快速推进，夏威夷水岸1号的稀缺价值越来越明显，\n",
      "identifier:  ['O', 'O', 'O', 'O', 'O', 'B_address', 'I_address', 'E_address', 'O', 'O', 'O', 'O', 'O', 'O', 'O', 'O', 'O', 'O', 'O', 'O', 'O', 'O', 'O', 'O', 'O', 'O', 'O', 'O', 'O', 'O', 'B_address', 'I_address', 'I_address', 'I_address', 'I_address', 'I_address', 'E_address', 'O', 'O', 'O', 'O', 'O', 'O', 'O', 'O', 'O', 'O', 'O']\n",
      "label:  {'address': {'潮白河': [[5, 7]], '夏威夷水岸1号': [[30, 36]]}}\n",
      "\n",
      "text:  Svensson在接受媒体采访时表示，CAPCOM并没有放弃《街霸》电影系列，将推出新的《\n",
      "identifier:  ['B_name', 'I_name', 'I_name', 'I_name', 'I_name', 'I_name', 'I_name', 'E_name', 'O', 'O', 'O', 'O', 'O', 'O', 'O', 'O', 'O', 'O', 'O', 'B_company', 'I_company', 'I_company', 'I_company', 'I_company', 'E_company', 'O', 'O', 'O', 'O', 'O', 'B_movie', 'I_movie', 'I_movie', 'E_movie', 'O', 'O', 'O', 'O', 'O', 'O', 'O', 'O', 'O', 'O', 'O']\n",
      "label:  {'movie': {'《街霸》': [[30, 33]]}, 'name': {'Svensson': [[0, 7]]}, 'company': {'CAPCOM': [[19, 24]]}}\n",
      "\n",
      "text:  莫斯科中央陆军vs波兹南、拉科vs费耶诺德、加拉塔萨雷vs梅塔利斯特，\n",
      "identifier:  ['B_organization', 'I_organization', 'I_organization', 'I_organization', 'I_organization', 'I_organization', 'E_organization', 'O', 'O', 'B_organization', 'I_organization', 'E_organization', 'O', 'B_organization', 'E_organization', 'O', 'O', 'B_organization', 'I_organization', 'I_organization', 'E_organization', 'O', 'B_organization', 'I_organization', 'I_organization', 'I_organization', 'E_organization', 'O', 'O', 'B_organization', 'I_organization', 'I_organization', 'I_organization', 'E_organization', 'O']\n",
      "label:  {'organization': {'莫斯科中央陆军': [[0, 6]], '波兹南': [[9, 11]], '拉科': [[13, 14]], '费耶诺德': [[17, 20]], '加拉塔萨雷': [[22, 26]], '梅塔利斯特': [[29, 33]]}}\n",
      "\n",
      "text:  这也让很多业主据此认为，雅清苑是政府公务员挤对了国家的经适房政策。\n",
      "identifier:  ['O', 'O', 'O', 'O', 'O', 'O', 'O', 'O', 'O', 'O', 'O', 'O', 'B_address', 'I_address', 'E_address', 'O', 'O', 'O', 'B_position', 'I_position', 'E_position', 'O', 'O', 'O', 'O', 'O', 'O', 'O', 'O', 'O', 'O', 'O', 'O']\n",
      "label:  {'address': {'雅清苑': [[12, 14]]}, 'position': {'公务员': [[18, 20]]}}\n",
      "\n"
     ]
    }
   ],
   "source": [
    "print(\"Train Dataset : \")\n",
    "for i in range(20):\n",
    "    print(\"text: \", train_dataset[i][0])\n",
    "    print(\"identifier: \", train_dataset[i][1])\n",
    "    print(\"label: \", train_dataset[i][2])\n",
    "    print()\n",
    "print()\n",
    "\n",
    "print(\"Test Dataset : \")\n",
    "for i in range(20):\n",
    "    print(\"text: \", test_dataset[i][0])\n",
    "    print(\"identifier: \", test_dataset[i][1])\n",
    "    print(\"label: \", test_dataset[i][2])\n",
    "    print()"
   ]
  },
  {
   "cell_type": "code",
   "execution_count": 5,
   "metadata": {},
   "outputs": [],
   "source": [
    "# 将数据集拆分成data、identifier、label 三个子集。\n",
    "train_data, train_identifier, train_label = list(), list(), list()\n",
    "for (text, identifier, label) in train_dataset:\n",
    "    train_data.append(text)\n",
    "    train_identifier.append(identifier)\n",
    "    train_label.append(label)\n",
    "    \n",
    "test_data, test_identifier, test_label = list(), list(), list()\n",
    "for (text, identifier, label) in test_dataset:\n",
    "    test_data.append(text)\n",
    "    test_identifier.append(identifier)\n",
    "    test_label.append(label)"
   ]
  },
  {
   "cell_type": "code",
   "execution_count": 6,
   "metadata": {},
   "outputs": [
    {
     "name": "stdout",
     "output_type": "stream",
     "text": [
      "train entity: \n",
      "name : 2847\n",
      "company : 2215\n",
      "game : 1897\n",
      "organization : 1894\n",
      "movie : 779\n",
      "address : 2090\n",
      "position : 2464\n",
      "government : 1461\n",
      "scene : 946\n",
      "book : 908\n",
      "\n",
      "test entity: \n",
      "address : 273\n",
      "name : 352\n",
      "organization : 206\n",
      "game : 226\n",
      "scene : 124\n",
      "book : 121\n",
      "company : 279\n",
      "position : 347\n",
      "government : 190\n",
      "movie : 101\n"
     ]
    }
   ],
   "source": [
    "# 统计训练的实体数量。\n",
    "from collections import Counter\n",
    "\n",
    "def entity_count(labels):\n",
    "    entity_number = Counter()\n",
    "    \n",
    "    for label in labels:\n",
    "        for entity_name, _ in label.items():\n",
    "            entity_number.update([entity_name])\n",
    "            \n",
    "    for entity_name, entity_num in entity_number.items():\n",
    "        print(\"{} : {}\".format(entity_name, entity_num))\n",
    "\n",
    "print(\"train entity: \")\n",
    "entity_count(train_label)\n",
    "\n",
    "print()\n",
    "\n",
    "print(\"test entity: \")\n",
    "entity_count(test_label)"
   ]
  },
  {
   "cell_type": "markdown",
   "metadata": {},
   "source": [
    "由上可知语料中实体的数量大小不同，最大的是 name 实体语料。"
   ]
  },
  {
   "cell_type": "markdown",
   "metadata": {},
   "source": [
    "## 模型实现\n",
    "\n",
    "使用 pytorch 实现 BiLSTM + CRF 模型。 \n",
    "参考：[使用 pytorch 实现 BiLSTM + CRF 模型](https://pytorch.org/tutorials/beginner/nlp/advanced_tutorial.html)\n",
    "\n",
    "代码实现参考：BLTP/module/ner/bilstm_crf/bilstm_crf_ner.py"
   ]
  },
  {
   "cell_type": "markdown",
   "metadata": {},
   "source": [
    "### 创建词典\n",
    "\n",
    "字符不能直接输入到网络模型。需要转换成数字。创建词典，将每个字和标示符使用数字的形式表示。"
   ]
  },
  {
   "cell_type": "code",
   "execution_count": 7,
   "metadata": {},
   "outputs": [
    {
     "name": "stderr",
     "output_type": "stream",
     "text": [
      "10748it [00:00, 60601.93it/s]"
     ]
    },
    {
     "name": "stdout",
     "output_type": "stream",
     "text": [
      "word num: 3671, identifier num: 37\n",
      "save dictionary success! File: ../model/BiLSTM_CRF_NER/ner_dictionary.pickle\n"
     ]
    },
    {
     "name": "stderr",
     "output_type": "stream",
     "text": [
      "\n"
     ]
    }
   ],
   "source": [
    "from module.ner.bilstm_crf.dictionary import NERDictionary\n",
    "\n",
    "dictionary = NERDictionary()\n",
    "dictionary.fit(train_data, train_identifier)\n",
    "\n",
    "save_dict = \"../model/BiLSTM_CRF_NER/ner_dictionary.pickle\"\n",
    "dictionary.save(save_dict)"
   ]
  },
  {
   "cell_type": "markdown",
   "metadata": {},
   "source": [
    "### 模型"
   ]
  },
  {
   "cell_type": "code",
   "execution_count": 8,
   "metadata": {},
   "outputs": [],
   "source": [
    "from module.ner.bilstm_crf.bilstm_crf_ner import BiLSTM_CRF_NER\n",
    "\n",
    "embedding_dim = 200\n",
    "hidden_size = 256\n",
    "\n",
    "ner_model = BiLSTM_CRF_NER(dictionary, embedding_dim=embedding_dim, hidden_size=hidden_size)"
   ]
  },
  {
   "cell_type": "markdown",
   "metadata": {},
   "source": [
    "#### 训练"
   ]
  },
  {
   "cell_type": "code",
   "execution_count": null,
   "metadata": {},
   "outputs": [
    {
     "name": "stdout",
     "output_type": "stream",
     "text": [
      "train epochs: 1/5, train step: 9678/9678, train loss: 28.9645\n",
      "entity: address        entity number: 2733.0  recall: 0.0000 \n",
      "entity: government     entity number: 1679.0  recall: 0.0000 \n",
      "entity: organization   entity number: 2979.0  recall: 0.0007 \n",
      "entity: name           entity number: 3385.0  recall: 0.0012 \n",
      "entity: scene          entity number: 1309.0  recall: 0.0000 \n",
      "entity: position       entity number: 2717.0  recall: 0.0037 \n",
      "entity: game           entity number: 2246.0  recall: 0.0116 \n",
      "entity: company        entity number: 2675.0  recall: 0.0000 \n",
      "entity: movie          entity number: 956.0  recall: 0.0042 \n",
      "entity: book           entity number: 980.0  recall: 0.0010 \n",
      "entity number:21659.0, recall:0.0022\n",
      "valid step: 1070/1070, valid loss: 15.6291\n",
      "entity: book           entity number: 159.0  recall: 0.0000 \n",
      "entity: game           entity number: 130.0  recall: 0.0154 \n",
      "entity: company        entity number: 305.0  recall: 0.0033 \n",
      "entity: position       entity number: 424.0  recall: 0.0165 \n",
      "entity: name           entity number: 370.0  recall: 0.0000 \n",
      "entity: scene          entity number: 212.0  recall: 0.0000 \n",
      "entity: government     entity number: 156.0  recall: 0.0000 \n",
      "entity: address        entity number: 158.0  recall: 0.0000 \n",
      "entity: organization   entity number: 231.0  recall: 0.0000 \n",
      "entity: movie          entity number: 167.0  recall: 0.0000 \n",
      "entity number:2312.0, recall:0.0043\n",
      "remove file: ../model/BiLSTM_CRF_NER/ner_model.pth True\n",
      "model save over! File: ../model/BiLSTM_CRF_NER/ner_model.pth\n",
      "\n",
      "train epochs: 2/5, train step: 9678/9678, train loss: 11.8907\n",
      "entity: address        entity number: 2743.0  recall: 0.0015 \n",
      "entity: name           entity number: 3403.0  recall: 0.0203 \n",
      "entity: game           entity number: 2250.0  recall: 0.0600 \n",
      "entity: government     entity number: 1674.0  recall: 0.0358 \n",
      "entity: movie          entity number: 952.0  recall: 0.0042 \n",
      "entity: position       entity number: 2745.0  recall: 0.0273 \n",
      "entity: book           entity number: 967.0  recall: 0.0114 \n",
      "entity: company        entity number: 2696.0  recall: 0.0030 \n",
      "entity: organization   entity number: 2982.0  recall: 0.0141 \n",
      "entity: scene          entity number: 1304.0  recall: 0.0000 \n",
      "entity number:21716.0, recall:0.0188\n",
      "valid step: 1070/1070, valid loss: 9.4082\n",
      "entity: organization   entity number: 228.0  recall: 0.0219 \n",
      "entity: company        entity number: 284.0  recall: 0.0000 \n",
      "entity: game           entity number: 126.0  recall: 0.0159 \n",
      "entity: book           entity number: 172.0  recall: 0.0116 \n",
      "entity: position       entity number: 396.0  recall: 0.0480 \n",
      "entity: address        entity number: 148.0  recall: 0.0068 \n",
      "entity: name           entity number: 352.0  recall: 0.0540 \n",
      "entity: scene          entity number: 217.0  recall: 0.0000 \n",
      "entity: government     entity number: 161.0  recall: 0.0497 \n",
      "entity: movie          entity number: 171.0  recall: 0.0000 \n",
      "entity number:2255.0, recall:0.0248\n",
      "remove file: ../model/BiLSTM_CRF_NER/ner_model.pth True\n",
      "model save over! File: ../model/BiLSTM_CRF_NER/ner_model.pth\n",
      "\n",
      "train epochs: 3/5, train step: 9678/9678, train loss: 8.0468\n",
      "entity: address        entity number: 2749.0  recall: 0.0073 \n",
      "entity: company        entity number: 2689.0  recall: 0.0060 \n",
      "entity: name           entity number: 3368.0  recall: 0.0413 \n",
      "entity: organization   entity number: 2989.0  recall: 0.0321 \n",
      "entity: position       entity number: 2740.0  recall: 0.0307 \n",
      "entity: movie          entity number: 961.0  recall: 0.0062 \n",
      "entity: book           entity number: 982.0  recall: 0.0509 \n",
      "entity: scene          entity number: 1296.0  recall: 0.0008 \n",
      "entity: government     entity number: 1676.0  recall: 0.0543 \n",
      "entity: game           entity number: 2243.0  recall: 0.0682 \n",
      "entity number:21693.0, recall:0.0302\n",
      "valid step: 1070/1070, valid loss: 7.3573\n",
      "entity: company        entity number: 291.0  recall: 0.0034 \n",
      "entity: position       entity number: 401.0  recall: 0.0324 \n",
      "entity: address        entity number: 142.0  recall: 0.0141 \n",
      "entity: government     entity number: 159.0  recall: 0.0440 \n",
      "entity: game           entity number: 133.0  recall: 0.0827 \n",
      "entity: organization   entity number: 221.0  recall: 0.0226 \n",
      "entity: book           entity number: 157.0  recall: 0.0382 \n",
      "entity: name           entity number: 387.0  recall: 0.0388 \n",
      "entity: scene          entity number: 225.0  recall: 0.0000 \n",
      "entity: movie          entity number: 162.0  recall: 0.0000 \n",
      "entity number:2278.0, recall:0.0263\n",
      "remove file: ../model/BiLSTM_CRF_NER/ner_model.pth True\n",
      "model save over! File: ../model/BiLSTM_CRF_NER/ner_model.pth\n",
      "\n"
     ]
    },
    {
     "name": "stderr",
     "output_type": "stream",
     "text": [
      "/Users/shen/anaconda3/envs/env/lib/python3.6/site-packages/torch/serialization.py:256: UserWarning: Couldn't retrieve source code for container of type BiLSTM_CRF_NER. It won't be checked for correctness upon loading.\n",
      "  \"type \" + obj.__name__ + \". It won't be checked \"\n"
     ]
    },
    {
     "name": "stdout",
     "output_type": "stream",
     "text": [
      "train epochs: 4/5, train step: 9678/9678, train loss: 6.3193\n",
      "entity: address        entity number: 2735.0  recall: 0.0150 \n",
      "entity: movie          entity number: 971.0  recall: 0.0000 \n",
      "entity: organization   entity number: 2993.0  recall: 0.0391 \n",
      "entity: name           entity number: 3363.0  recall: 0.0535 \n",
      "entity: position       entity number: 2746.0  recall: 0.0368 \n",
      "entity: government     entity number: 1685.0  recall: 0.0576 \n",
      "entity: company        entity number: 2709.0  recall: 0.0096 \n",
      "entity: scene          entity number: 1290.0  recall: 0.0000 \n",
      "entity: game           entity number: 2243.0  recall: 0.0709 \n",
      "entity: book           entity number: 986.0  recall: 0.0740 \n",
      "entity number:21721.0, recall:0.0366\n",
      "valid step: 1042/1070, valid loss: 5.8494"
     ]
    }
   ],
   "source": [
    "epochs = 5\n",
    "lr = 0.001\n",
    "weight_decay = 0.0001\n",
    "ratio = 0.1\n",
    "save_model = \"../model/BiLSTM_CRF_NER/ner_model.pth\"\n",
    "\n",
    "ner_model.fit(train_data, train_identifier, train_label, \n",
    "              epochs=epochs, \n",
    "              lr=lr, \n",
    "              weight_decay=weight_decay, \n",
    "              ratio=ratio, \n",
    "              save_model=save_model)"
   ]
  },
  {
   "cell_type": "markdown",
   "metadata": {},
   "source": [
    "#### 测试"
   ]
  },
  {
   "cell_type": "code",
   "execution_count": 15,
   "metadata": {},
   "outputs": [
    {
     "name": "stderr",
     "output_type": "stream",
     "text": [
      "100%|██████████| 1343/1343 [02:39<00:00,  8.41it/s]"
     ]
    },
    {
     "name": "stdout",
     "output_type": "stream",
     "text": [
      "entity: address       entity number: 373 precision: 0.0621,  recall: 0.0295,  F1.score: 0.0400\n",
      "entity: name          entity number: 465 precision: 0.0904,  recall: 0.0344,  F1.score: 0.0498\n",
      "entity: organization  entity number: 367 precision: 0.0508,  recall: 0.0245,  F1.score: 0.0331\n",
      "entity: game          entity number: 295 precision: 0.1808,  recall: 0.1085,  F1.score: 0.1356\n",
      "entity: scene         entity number: 209 precision: 0.0000,  recall: 0.0000,  F1.score: nan\n",
      "entity: book          entity number: 154 precision: 0.0508,  recall: 0.0584,  F1.score: 0.0544\n",
      "entity: company       entity number: 378 precision: 0.1525,  recall: 0.0714,  F1.score: 0.0973\n",
      "entity: position      entity number: 433 precision: 0.2994,  recall: 0.1224,  F1.score: 0.1738\n",
      "entity: government    entity number: 247 precision: 0.0452,  recall: 0.0324,  F1.score: 0.0377\n",
      "entity: movie         entity number: 151 precision: 0.0678,  recall: 0.0795,  F1.score: 0.0732\n"
     ]
    },
    {
     "name": "stderr",
     "output_type": "stream",
     "text": [
      "\n"
     ]
    }
   ],
   "source": [
    "ner_model.test(test_data, test_identifier, test_label)"
   ]
  },
  {
   "cell_type": "markdown",
   "metadata": {},
   "source": [
    "#### 预测"
   ]
  },
  {
   "cell_type": "code",
   "execution_count": 46,
   "metadata": {},
   "outputs": [
    {
     "data": {
      "text/plain": [
       "['I_game', 'O', 'O', 'O', 'B_game', 'I_game', 'E_game']"
      ]
     },
     "execution_count": 46,
     "metadata": {},
     "output_type": "execute_result"
    }
   ],
   "source": [
    "sents = \"会去玩玩星际2\"\n",
    "\n",
    "ner_model.predict(sents)"
   ]
  }
 ],
 "metadata": {
  "kernelspec": {
   "display_name": "Python 3",
   "language": "python",
   "name": "python3"
  },
  "language_info": {
   "codemirror_mode": {
    "name": "ipython",
    "version": 3
   },
   "file_extension": ".py",
   "mimetype": "text/x-python",
   "name": "python",
   "nbconvert_exporter": "python",
   "pygments_lexer": "ipython3",
   "version": "3.6.8"
  }
 },
 "nbformat": 4,
 "nbformat_minor": 2
}
